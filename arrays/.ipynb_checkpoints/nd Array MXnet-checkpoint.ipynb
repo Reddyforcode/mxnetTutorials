{
 "cells": [
  {
   "cell_type": "code",
   "execution_count": 14,
   "metadata": {},
   "outputs": [
    {
     "name": "stdout",
     "output_type": "stream",
     "text": [
      "Requirement already satisfied: mxnet-cu101 in /home/docout/anaconda3/envs/rafa/lib/python3.6/site-packages (1.5.0)\r\n",
      "Requirement already satisfied: requests<3,>=2.20.0 in /home/docout/anaconda3/envs/rafa/lib/python3.6/site-packages (from mxnet-cu101) (2.22.0)\r\n",
      "Requirement already satisfied: graphviz<0.9.0,>=0.8.1 in /home/docout/anaconda3/envs/rafa/lib/python3.6/site-packages (from mxnet-cu101) (0.8.4)\r\n",
      "Requirement already satisfied: numpy<2.0.0,>1.16.0 in /home/docout/anaconda3/envs/rafa/lib/python3.6/site-packages (from mxnet-cu101) (1.16.4)\r\n",
      "Requirement already satisfied: certifi>=2017.4.17 in /home/docout/anaconda3/envs/rafa/lib/python3.6/site-packages (from requests<3,>=2.20.0->mxnet-cu101) (2019.6.16)\r\n",
      "Requirement already satisfied: urllib3!=1.25.0,!=1.25.1,<1.26,>=1.21.1 in /home/docout/anaconda3/envs/rafa/lib/python3.6/site-packages (from requests<3,>=2.20.0->mxnet-cu101) (1.24.2)\r\n",
      "Requirement already satisfied: idna<2.9,>=2.5 in /home/docout/anaconda3/envs/rafa/lib/python3.6/site-packages (from requests<3,>=2.20.0->mxnet-cu101) (2.8)\r\n",
      "Requirement already satisfied: chardet<3.1.0,>=3.0.2 in /home/docout/anaconda3/envs/rafa/lib/python3.6/site-packages (from requests<3,>=2.20.0->mxnet-cu101) (3.0.4)\r\n"
     ]
    }
   ],
   "source": [
    "!pip install mxnet-cu101\n",
    "from mxnet import nd\n",
    "import mxnet as mx"
   ]
  },
  {
   "cell_type": "code",
   "execution_count": 2,
   "metadata": {},
   "outputs": [],
   "source": []
  },
  {
   "cell_type": "code",
   "execution_count": 46,
   "metadata": {},
   "outputs": [
    {
     "data": {
      "text/plain": [
       "\n",
       "[[1. 2. 3.]\n",
       " [5. 6. 7.]]\n",
       "<NDArray 2x3 @cpu(0)>"
      ]
     },
     "execution_count": 46,
     "metadata": {},
     "output_type": "execute_result"
    }
   ],
   "source": [
    "nd.array( ( (1, 2, 3), (5, 6, 7) ) )"
   ]
  },
  {
   "cell_type": "code",
   "execution_count": 67,
   "metadata": {},
   "outputs": [
    {
     "data": {
      "text/plain": [
       "\n",
       "[[1. 1. 1.]\n",
       " [1. 1. 1.]]\n",
       "<NDArray 2x3 @gpu(0)>"
      ]
     },
     "execution_count": 67,
     "metadata": {},
     "output_type": "execute_result"
    }
   ],
   "source": [
    "x = nd.ones((2, 3), ctx = mx.gpu())\n",
    "x"
   ]
  },
  {
   "cell_type": "markdown",
   "metadata": {},
   "source": [
    "### Random array"
   ]
  },
  {
   "cell_type": "code",
   "execution_count": 48,
   "metadata": {},
   "outputs": [
    {
     "data": {
      "text/plain": [
       "\n",
       "[[-0.32379568 -0.93744147 -0.541803  ]\n",
       " [ 0.48185182  0.03356934 -0.03867829]]\n",
       "<NDArray 2x3 @gpu(0)>"
      ]
     },
     "execution_count": 48,
     "metadata": {},
     "output_type": "execute_result"
    }
   ],
   "source": [
    "y = nd.random.uniform(-1, 1, (2, 3), ctx = mx.gpu())\n",
    "y"
   ]
  },
  {
   "cell_type": "code",
   "execution_count": 49,
   "metadata": {},
   "outputs": [],
   "source": [
    "x = nd.full((2, 3), 2.0, ctx= mx.gpu())"
   ]
  },
  {
   "cell_type": "code",
   "execution_count": 50,
   "metadata": {},
   "outputs": [
    {
     "data": {
      "text/plain": [
       "((2, 3), 6, numpy.float32)"
      ]
     },
     "execution_count": 50,
     "metadata": {},
     "output_type": "execute_result"
    }
   ],
   "source": [
    "(x.shape, x.size, x.dtype)"
   ]
  },
  {
   "cell_type": "code",
   "execution_count": 51,
   "metadata": {},
   "outputs": [
    {
     "data": {
      "text/plain": [
       "\n",
       "[[-0.64759135 -1.8748829  -1.083606  ]\n",
       " [ 0.96370363  0.06713867 -0.07735658]]\n",
       "<NDArray 2x3 @gpu(0)>"
      ]
     },
     "execution_count": 51,
     "metadata": {},
     "output_type": "execute_result"
    }
   ],
   "source": [
    "x*y"
   ]
  },
  {
   "cell_type": "code",
   "execution_count": 52,
   "metadata": {},
   "outputs": [
    {
     "data": {
      "text/plain": [
       "\n",
       "[[0.72339803 0.3916285  0.5816985 ]\n",
       " [1.6190698  1.034139   0.96206015]]\n",
       "<NDArray 2x3 @gpu(0)>"
      ]
     },
     "execution_count": 52,
     "metadata": {},
     "output_type": "execute_result"
    }
   ],
   "source": [
    "y.exp()\n"
   ]
  },
  {
   "cell_type": "code",
   "execution_count": 53,
   "metadata": {},
   "outputs": [
    {
     "name": "stdout",
     "output_type": "stream",
     "text": [
      "(2, 3)   (3, 2)\n"
     ]
    },
    {
     "data": {
      "text/plain": [
       "\n",
       "[[-3.6060803  0.9534857]\n",
       " [-3.6060803  0.9534857]]\n",
       "<NDArray 2x2 @gpu(0)>"
      ]
     },
     "execution_count": 53,
     "metadata": {},
     "output_type": "execute_result"
    }
   ],
   "source": [
    "print(x.shape, \" \", y.T.shape)\n",
    "nd.dot(x, y.T)"
   ]
  },
  {
   "cell_type": "code",
   "execution_count": 54,
   "metadata": {},
   "outputs": [
    {
     "name": "stdout",
     "output_type": "stream",
     "text": [
      "\n",
      "[[-0.32379568 -0.93744147 -0.541803  ]\n",
      " [ 0.48185182  0.03356934 -0.03867829]]\n",
      "<NDArray 2x3 @gpu(0)>\n"
     ]
    },
    {
     "data": {
      "text/plain": [
       "\n",
       "[-0.03867829]\n",
       "<NDArray 1 @gpu(0)>"
      ]
     },
     "execution_count": 54,
     "metadata": {},
     "output_type": "execute_result"
    }
   ],
   "source": [
    "print(y)\n",
    "y[1, 2]"
   ]
  },
  {
   "cell_type": "markdown",
   "metadata": {},
   "source": [
    "### Slices\n",
    "\n",
    "- < inicio >:< fin > \n",
    "- Comenzara en inicio + 1 "
   ]
  },
  {
   "cell_type": "code",
   "execution_count": 55,
   "metadata": {},
   "outputs": [
    {
     "name": "stdout",
     "output_type": "stream",
     "text": [
      "\n",
      "[[-0.32379568 -0.93744147 -0.541803  ]\n",
      " [ 0.48185182  0.03356934 -0.03867829]]\n",
      "<NDArray 2x3 @gpu(0)>\n"
     ]
    },
    {
     "data": {
      "text/plain": [
       "\n",
       "[[-0.93744147 -0.541803  ]\n",
       " [ 0.03356934 -0.03867829]]\n",
       "<NDArray 2x2 @gpu(0)>"
      ]
     },
     "execution_count": 55,
     "metadata": {},
     "output_type": "execute_result"
    }
   ],
   "source": [
    "print(y)\n",
    "# mayor a uno hasta 3]\n",
    "y[:, 1:3]"
   ]
  },
  {
   "cell_type": "code",
   "execution_count": 56,
   "metadata": {},
   "outputs": [
    {
     "name": "stdout",
     "output_type": "stream",
     "text": [
      "\n",
      "[[-0.32379568  2.          2.        ]\n",
      " [ 0.48185182  2.          2.        ]]\n",
      "<NDArray 2x3 @gpu(0)>\n"
     ]
    }
   ],
   "source": [
    "y[:, 1:3] = 2\n",
    "print(y)"
   ]
  },
  {
   "cell_type": "code",
   "execution_count": 61,
   "metadata": {},
   "outputs": [
    {
     "name": "stdout",
     "output_type": "stream",
     "text": [
      "\n",
      "[[-0.32379568  2.          2.        ]\n",
      " [ 4.          4.          2.        ]]\n",
      "<NDArray 2x3 @gpu(0)>\n"
     ]
    }
   ],
   "source": [
    "y[1:2, 0:2] = 4\n",
    "print(y)"
   ]
  },
  {
   "cell_type": "markdown",
   "metadata": {},
   "source": [
    "### Notas\n",
    "- al convertir un array a numpy no sabemos en que contexto lo maneja\n",
    "- pero al cambiar un numpy array a un mxnet nd array por defecto lo pasa al contexto de cpu"
   ]
  },
  {
   "cell_type": "code",
   "execution_count": 63,
   "metadata": {},
   "outputs": [
    {
     "data": {
      "text/plain": [
       "(numpy.ndarray, array([[2., 2., 2.],\n",
       "        [2., 2., 2.]], dtype=float32))"
      ]
     },
     "execution_count": 63,
     "metadata": {},
     "output_type": "execute_result"
    }
   ],
   "source": [
    "a = x.asnumpy()\n",
    "(type(a), a)"
   ]
  },
  {
   "cell_type": "code",
   "execution_count": 66,
   "metadata": {},
   "outputs": [
    {
     "data": {
      "text/plain": [
       "\n",
       "[[2. 2. 2.]\n",
       " [2. 2. 2.]]\n",
       "<NDArray 2x3 @gpu(0)>"
      ]
     },
     "execution_count": 66,
     "metadata": {},
     "output_type": "execute_result"
    }
   ],
   "source": [
    "nd.array(a, ctx = mx.gpu())\n"
   ]
  }
 ],
 "metadata": {
  "kernelspec": {
   "display_name": "Python 3",
   "language": "python",
   "name": "python3"
  },
  "language_info": {
   "codemirror_mode": {
    "name": "ipython",
    "version": 3
   },
   "file_extension": ".py",
   "mimetype": "text/x-python",
   "name": "python",
   "nbconvert_exporter": "python",
   "pygments_lexer": "ipython3",
   "version": "3.6.9"
  }
 },
 "nbformat": 4,
 "nbformat_minor": 2
}
